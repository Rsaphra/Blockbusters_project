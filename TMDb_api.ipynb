{
 "cells": [
  {
   "cell_type": "code",
   "execution_count": 1,
   "metadata": {},
   "outputs": [],
   "source": [
    "#parse through the data and retrieve only what I need\n",
    "def arrange_data(data):\n",
    "    \"\"\"This function receives the raw data that we pulled. that is saved in a list of pages.\n",
    "       each page contains a list of movies for every movie \"\"\"\n",
    "    new_list = []\n",
    "    for page in data:\n",
    "        for dictionary in page:\n",
    "            #save the values we want for each title\n",
    "            new_dictionary = {}\n",
    "            for k, v in dictionary.items():\n",
    "                if k == 'id':\n",
    "                    new_dictionary[k] = v\n",
    "                if k == 'title':\n",
    "                    new_dictionary[k] = v\n",
    "                if k == 'popularity':\n",
    "                    new_dictionary[k] = v\n",
    "                if k == 'release_date':\n",
    "                    new_dictionary[k] = v\n",
    "                if k == 'vote_count':\n",
    "                    new_dictionary[k] = v\n",
    "                if k == 'vote_average':\n",
    "                    new_dictionary[k] = v\n",
    "                if k == 'genre_ids':\n",
    "                    new_dictionary[k] = v\n",
    "            new_list.append(new_dictionary)\n",
    "    return new_list"
   ]
  },
  {
   "cell_type": "code",
   "execution_count": 2,
   "metadata": {},
   "outputs": [],
   "source": [
    "import mysql.connector\n",
    "#method for connecting to DB, returns the connection and the cursor\n",
    "def connect_to_db():\n",
    "    cnx = mysql.connector.connect(\n",
    "    host=config.host, user=config.user, passwd=config.password, database=config.DB_NAME)\n",
    "    cursor = cnx.cursor()\n",
    "    return cnx, cursor"
   ]
  },
  {
   "cell_type": "code",
   "execution_count": 3,
   "metadata": {},
   "outputs": [],
   "source": [
    "###############################\n",
    "#these two functions make sure our data is in tuple form\n",
    "def create_tuple(reducted_data):\n",
    "    data = (reducted_data['id'], reducted_data['title'],\n",
    "             reducted_data['popularity'], reducted_data['release_date'],\n",
    "             reducted_data['vote_count'], reducted_data['vote_average'])\n",
    "\n",
    "    return data\n",
    "\n",
    "def multiple_tuples(reducted_data):\n",
    "    list_tuples = []\n",
    "    for movie in reducted_data:\n",
    "        list_tuples.append(create_tuple(movie))\n",
    "    return list_tuples\n",
    "################################\n",
    "\n",
    "#'movies' table insertion function\n",
    "def db_insertion(query, data):\n",
    "    try:\n",
    "        for datum in data:\n",
    "            # Make sure data is committed to the database\n",
    "            cursor.execute(query, datum)\n",
    "            cnx.commit()\n",
    "    except:\n",
    "        print(f\"{datum} already exists!\")\n",
    "    pass"
   ]
  },
  {
   "cell_type": "code",
   "execution_count": 20,
   "metadata": {},
   "outputs": [],
   "source": [
    "import requests\n",
    "import config\n",
    "import time\n",
    "import json\n",
    "\n",
    "def top_rated(pages):\n",
    "    \"\"\"This function retrieves the top rated movies from the movie db using their api.\n",
    "       The user is required to give it a list of the pages they want to obtain from the db\"\"\"\n",
    "    \n",
    "    url = f'https://api.themoviedb.org/3/movie/top_rated?api_key={config.api_key}'\n",
    "    top_rated = []\n",
    "    for page in pages:\n",
    "        #updating the 'page' paramater\n",
    "        params = {'language': '', 'page': page}\n",
    "        response = requests.get(url, params=params)\n",
    "        json_response = response.json()\n",
    "        #making sure we have data before going on\n",
    "        if 'results' in json_response:\n",
    "            top_rated.append(json_response['results'])\n",
    "        #considering movieDB limit for requests\n",
    "        time.sleep(4)\n",
    "    #returns a list of dictionary. each page on a different dictionary.\n",
    "    reducted_data = arrange_data(top_rated)\n",
    "    #tupple_data = multiple_tuples(reducted_data)\n",
    "    return  reducted_data\n",
    "\n",
    "pages = list(range(32, 61))\n",
    "data = top_rated(pages)"
   ]
  },
  {
   "cell_type": "code",
   "execution_count": 16,
   "metadata": {
    "scrolled": true
   },
   "outputs": [],
   "source": [
    "def populate_movies_table(data):\n",
    "    cnx, cursor = connect_to_db()\n",
    "    #the query we use to insert\n",
    "    insert_movies_q = (\"\"\"INSERT INTO movies \n",
    "                     (movie_id, title, popularity, \n",
    "                     release_date, vote_count, vote_avg)\n",
    "                     VALUES (%s, %s, %s, %s, %s, %s)\"\"\")\n",
    "\n",
    "    #get the full list of all values to be inserted\n",
    "    tupled_data = multiple_tuples(data)\n",
    "    # insert the business data ito db\n",
    "    db_insertion(insert_movies_q, tupled_data)\n",
    "\n",
    "    # make sure the connection is closed.\n",
    "    cursor.close()\n",
    "    cnx.close()"
   ]
  },
  {
   "cell_type": "code",
   "execution_count": 21,
   "metadata": {},
   "outputs": [],
   "source": [
    "populate_movies_table(data)"
   ]
  },
  {
   "cell_type": "code",
   "execution_count": 22,
   "metadata": {},
   "outputs": [],
   "source": [
    "def create_genre_tuple(reducted_data):\n",
    "    data = (reducted_data['id'], reducted_data['genre_ids'])\n",
    "    return data\n",
    "\n",
    "def genres_tuples(reducted_data):\n",
    "    list_tuples = []\n",
    "    for movie in reducted_data:\n",
    "        list_tuples.append(create_genre_tuple(movie))\n",
    "    return list_tuples\n",
    "\n",
    "gi_query = (\"\"\"INSERT INTO genre_instances \n",
    "                  (movie_id, genre_id)\n",
    "                  VALUES (%s, %s)\"\"\")\n",
    "\n",
    "def genre_instances_insertion(query, data):\n",
    "    for datum in data:\n",
    "        movie_id = datum[0]\n",
    "        for genre_id in datum[1]:\n",
    "            cursor.execute(query, (movie_id, genre_id))\n",
    "            cnx.commit()"
   ]
  },
  {
   "cell_type": "code",
   "execution_count": 23,
   "metadata": {},
   "outputs": [],
   "source": [
    "# create business query, add the data and commit query\n",
    "# connecting my db and start inserting data into it\n",
    "cnx = mysql.connector.connect(\n",
    "    host=config.host,\n",
    "    user=config.user,\n",
    "    passwd=config.password,\n",
    "    database=config.DB_NAME) \n",
    "cursor = cnx.cursor()\n",
    "\n",
    "genre_data_instance = genres_tuples(data)   \n",
    "genre_instances_insertion(gi_query, genre_data_instance)\n",
    "\n",
    "#closing connection\n",
    "cursor.close()\n",
    "cnx.close()"
   ]
  },
  {
   "cell_type": "code",
   "execution_count": null,
   "metadata": {},
   "outputs": [],
   "source": []
  }
 ],
 "metadata": {
  "kernelspec": {
   "display_name": "Python 3",
   "language": "python",
   "name": "python3"
  },
  "language_info": {
   "codemirror_mode": {
    "name": "ipython",
    "version": 3
   },
   "file_extension": ".py",
   "mimetype": "text/x-python",
   "name": "python",
   "nbconvert_exporter": "python",
   "pygments_lexer": "ipython3",
   "version": "3.7.2"
  }
 },
 "nbformat": 4,
 "nbformat_minor": 2
}
