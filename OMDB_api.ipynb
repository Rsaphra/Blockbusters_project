{
 "cells": [
  {
   "cell_type": "code",
   "execution_count": 16,
   "metadata": {},
   "outputs": [
    {
     "data": {
      "text/plain": [
       "['Lock, Stock and Two Smoking Barrels',\n",
       " 'A Letter to Momo',\n",
       " 'Captain America: The Winter Soldier',\n",
       " 'Man Bites Dog',\n",
       " 'The Kid']"
      ]
     },
     "execution_count": 16,
     "metadata": {},
     "output_type": "execute_result"
    }
   ],
   "source": [
    "import mysql.connector\n",
    "import re\n",
    "import config\n",
    "import requests\n",
    "import json\n",
    "import time\n",
    "import movie_fun\n",
    "\n",
    "\n",
    "def convert_to_int(string):\n",
    "    '''This function tries to convert a string into an integer, if it fails\n",
    "       it will return \"null\"'''\n",
    "    try:\n",
    "        clean_string = re.sub('\\W+','', string)\n",
    "        clean_string = int(clean_string)\n",
    "    except:\n",
    "        clean_string = \"NULL\"\n",
    "    return clean_string\n",
    "\n",
    "\n",
    "def rt_rating(movie):\n",
    "    \"\"\"This function is able to access the inner dictionary from each movie\n",
    "       json file to retrieve it rotten tomatoes score\"\"\"\n",
    "    for rating in movie['Ratings']:\n",
    "        if rating['Source'] == \"Rotten Tomatoes\":\n",
    "            rt_v = rating['Value']\n",
    "            return convert_to_int(rt_v)\n",
    "        \n",
    "\n",
    "def connect_to_db():\n",
    "    cnx = mysql.connector.connect(\n",
    "    host=config.host, user=config.user, passwd=config.password, database=config.DB_NAME)\n",
    "    cursor = cnx.cursor()\n",
    "    return cnx, cursor\n",
    "\n",
    "\n",
    "def convert_list_from_tuples(tuple_list):\n",
    "    \"\"\"The movie titles are retrieved as a list of tupes, \n",
    "    return instead a list with just the title from the first half of each tuple\"\"\"\n",
    "    title_list = []\n",
    "    for item in tuple_list:\n",
    "        title_list.append(item[0])\n",
    "    return title_list\n",
    "    \n",
    "\n",
    "def get_all_movie_info():\n",
    "    select_q = \"\"\"\n",
    "                SELECT *\n",
    "                FROM movies\n",
    "                \"\"\"\n",
    "    cnx, c = connect_to_db()\n",
    "    c.execute(q)\n",
    "    results = c.fetchall()\n",
    "    cnx.close()\n",
    "    c.close()\n",
    "    return results\n",
    "\n",
    "def get_movie_names():\n",
    "    name_q = \"\"\"\n",
    "            SELECT title\n",
    "            FROM movies\"\"\"\n",
    "    cnx, c = connect_to_db()\n",
    "    c.execute(name_q)\n",
    "    results = c.fetchall()\n",
    "    cnx.close()\n",
    "    c.close()\n",
    "    title_list = convert_list_from_tuples(results) \n",
    "    return title_list\n",
    "\n",
    "titles = get_movie_names()\n",
    "titles[:5]"
   ]
  },
  {
   "cell_type": "code",
   "execution_count": 17,
   "metadata": {},
   "outputs": [],
   "source": [
    "def check_data_fields(data, list_of_fields):\n",
    "    \"\"\"Takes in a dictionary and a list of all keys that must be in that dictionary\n",
    "        returns false if any of those keys are not contained\"\"\"\n",
    "    exists = True\n",
    "    for field in list_of_fields:\n",
    "        if field not in data:\n",
    "            exists = False        \n",
    "    return exists\n",
    "\n",
    "def omdb_api(movies):\n",
    "    \"\"\"This function retrieves the movie deatils for list of given movies using omdb api\"\"\"\n",
    "    movies_details = []\n",
    "    for title in movies:\n",
    "        title.replace(\" \", \"+\")\n",
    "        url = f'http://www.omdbapi.com/?apikey={config.omdb_api}&t={title}'\n",
    "        response = requests.get(url)\n",
    "        movie = response.json()\n",
    "        #check to make sure each key is always in the dict\n",
    "        necessary_fields = ['Director', 'BoxOffice', 'Ratings', 'Title']\n",
    "        if check_data_fields(movie, necessary_fields):\n",
    "            #4 necessary fields, title is important for the insert statement query later\n",
    "            movie_dict = {'director': movie['Director'],\n",
    "                          'boxoffice': convert_to_int(movie['BoxOffice']),\n",
    "                          'rt_rating': rt_rating(movie),\n",
    "                          'title': movie['Title']}\n",
    "            movies_details.append(movie_dict)\n",
    "        time.sleep(.2)\n",
    "        \n",
    "    \n",
    "    return movies_details "
   ]
  },
  {
   "cell_type": "code",
   "execution_count": 18,
   "metadata": {},
   "outputs": [],
   "source": [
    "def add_omdb_values_to_movies():\n",
    "    \"\"\"Add box office, director and rotten tomatoes rating \n",
    "    from the omdb to our pre-existing movies DB\"\"\"\n",
    "    \n",
    "    #retrieve all movie names and pass to omdb_api to get a \n",
    "    #list of dictionaries with values of directora nd box_office and rating\n",
    "    all_titles = get_movie_names()\n",
    "    omdb_values = omdb_api(all_titles)\n",
    "    return omdb_values\n",
    "#     for value_set in omdb_values:\n",
    "#         insert_omdb_values(list(value_set.values()))\n"
   ]
  },
  {
   "cell_type": "code",
   "execution_count": 19,
   "metadata": {},
   "outputs": [],
   "source": [
    "omdb_values = add_omdb_values_to_movies()"
   ]
  },
  {
   "cell_type": "code",
   "execution_count": 20,
   "metadata": {},
   "outputs": [],
   "source": [
    "#to account for when rt_rating or box_office doesn't exist, we have different sql statements for each case\n",
    "def determing_insert_query(values):\n",
    "    director = values[0]\n",
    "    box_office = values[1]\n",
    "    rt_rating = values[2]\n",
    "    title = values[3]\n",
    "    #both box office and rating are absent\n",
    "    if box_office == \"NULL\" and rt_rating == None:\n",
    "        return f\"\"\"UPDATE movies\n",
    "                    SET \n",
    "                        director = \"{director}\"\n",
    "                    WHERE title = \"{title}\";\"\"\"\n",
    "    #box office is absent\n",
    "    elif box_office == 'NULL':\n",
    "        return f\"\"\"UPDATE movies\n",
    "                    SET \n",
    "                        director = \"{director}\", \n",
    "                        rt_ratings = '{rt_rating}'\n",
    "                    WHERE title = \"{title}\";\"\"\"\n",
    "    #rating is absent\n",
    "    elif rt_rating == None:\n",
    "        return f\"\"\"UPDATE movies\n",
    "                    SET \n",
    "                        director = \"{director}\", \n",
    "                        box_office = '{box_office}'\n",
    "                    WHERE title = \"{title}\";\"\"\"\n",
    "    #all accounted for\n",
    "    else:\n",
    "        return f\"\"\"UPDATE movies\n",
    "                    SET \n",
    "                        director = \"{director}\", \n",
    "                        box_office = '{box_office}', \n",
    "                        rt_ratings = '{rt_rating}'\n",
    "                    WHERE title = \"{title}\";\"\"\"\n",
    "        "
   ]
  },
  {
   "cell_type": "code",
   "execution_count": 21,
   "metadata": {},
   "outputs": [],
   "source": [
    "def insert_omdb_values(values):\n",
    "    insert_q = determing_insert_query(values)\n",
    "    cnx, c = connect_to_db()\n",
    "    c.execute(insert_q)\n",
    "    cnx.commit()\n",
    "    c.close\n",
    "    cnx.close"
   ]
  },
  {
   "cell_type": "code",
   "execution_count": 22,
   "metadata": {},
   "outputs": [],
   "source": [
    "#to test to see if title = {title} actually matches anything\n",
    "def check_title_match(values):\n",
    "    title = values[3]\n",
    "    insert_q = f\"\"\"SELECT title, movie_id\n",
    "            FROM movies\n",
    "            WHERE title = \"{title}\";\"\"\"\n",
    "    cnx, c = connect_to_db()\n",
    "    c.execute(insert_q)\n",
    "    result = c.fetchall()\n",
    "    c.close\n",
    "    cnx.close\n",
    "    return result"
   ]
  },
  {
   "cell_type": "code",
   "execution_count": 27,
   "metadata": {},
   "outputs": [],
   "source": [
    "for value_set in omdb_values[100:]:\n",
    "    values = list(value_set.values())\n",
    "    #call check title, and if it's not empty\n",
    "    if not len(check_title_match(values)) == 0:\n",
    "        insert_omdb_values(values)"
   ]
  },
  {
   "cell_type": "code",
   "execution_count": 2,
   "metadata": {},
   "outputs": [
    {
     "data": {
      "text/plain": [
       "10"
      ]
     },
     "execution_count": 2,
     "metadata": {},
     "output_type": "execute_result"
    }
   ],
   "source": [
    "movie_fun.multiply_2(3)"
   ]
  },
  {
   "cell_type": "code",
   "execution_count": null,
   "metadata": {},
   "outputs": [],
   "source": []
  }
 ],
 "metadata": {
  "kernelspec": {
   "display_name": "Python 3",
   "language": "python",
   "name": "python3"
  },
  "language_info": {
   "codemirror_mode": {
    "name": "ipython",
    "version": 3
   },
   "file_extension": ".py",
   "mimetype": "text/x-python",
   "name": "python",
   "nbconvert_exporter": "python",
   "pygments_lexer": "ipython3",
   "version": "3.7.2"
  }
 },
 "nbformat": 4,
 "nbformat_minor": 2
}
